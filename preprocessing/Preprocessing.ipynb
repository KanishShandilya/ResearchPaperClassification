{
 "cells": [
  {
   "cell_type": "code",
   "execution_count": 24,
   "id": "9715f77b",
   "metadata": {},
   "outputs": [],
   "source": [
    "import pandas as pd\n",
    "import numpy as np\n",
    "import matplotlib.pyplot as plt\n",
    "import nltk\n",
    "import re\n",
    "from nltk.stem import WordNetLemmatizer\n",
    "import string\n",
    "from nltk.tokenize import WhitespaceTokenizer\n",
    "from nltk.stem import PorterStemmer\n",
    "from sklearn.model_selection import train_test_split"
   ]
  },
  {
   "cell_type": "code",
   "execution_count": 25,
   "id": "bd36cd84",
   "metadata": {},
   "outputs": [],
   "source": [
    "df=pd.read_csv(\"../dataset/train.csv\")"
   ]
  },
  {
   "cell_type": "code",
   "execution_count": 26,
   "id": "879e42b8",
   "metadata": {},
   "outputs": [
    {
     "name": "stdout",
     "output_type": "stream",
     "text": [
      "\n",
      "Total number of data points  20972\n",
      "\n",
      "Total number of features  9\n",
      "\n",
      "Feature Names  Index(['ID', 'TITLE', 'ABSTRACT', 'Computer Science', 'Physics', 'Mathematics',\n",
      "       'Statistics', 'Quantitative Biology', 'Quantitative Finance'],\n",
      "      dtype='object')\n"
     ]
    }
   ],
   "source": [
    "print(\"\\nTotal number of data points \",df.shape[0])\n",
    "print(\"\\nTotal number of features \",df.shape[1])\n",
    "print(\"\\nFeature Names \",df.columns)"
   ]
  },
  {
   "cell_type": "markdown",
   "id": "a23e9fee",
   "metadata": {},
   "source": [
    "## There are two text feature and 6 labels. We have multi label classification dataset"
   ]
  },
  {
   "cell_type": "code",
   "execution_count": 27,
   "id": "53498294",
   "metadata": {},
   "outputs": [],
   "source": [
    "df=df.drop(\"ID\",axis=1)"
   ]
  },
  {
   "cell_type": "code",
   "execution_count": 28,
   "id": "96d2fbee",
   "metadata": {},
   "outputs": [
    {
     "data": {
      "text/plain": [
       "TITLE                   0\n",
       "ABSTRACT                0\n",
       "Computer Science        0\n",
       "Physics                 0\n",
       "Mathematics             0\n",
       "Statistics              0\n",
       "Quantitative Biology    0\n",
       "Quantitative Finance    0\n",
       "dtype: int64"
      ]
     },
     "execution_count": 28,
     "metadata": {},
     "output_type": "execute_result"
    }
   ],
   "source": [
    "df.isnull().sum()"
   ]
  },
  {
   "cell_type": "markdown",
   "id": "3fe4066a",
   "metadata": {},
   "source": [
    "## There are no misisng values in our dataset"
   ]
  },
  {
   "cell_type": "code",
   "execution_count": 29,
   "id": "3fc6fdf1",
   "metadata": {},
   "outputs": [
    {
     "data": {
      "text/plain": [
       "1    20972\n",
       "Name: size, dtype: int64"
      ]
     },
     "execution_count": 29,
     "metadata": {},
     "output_type": "execute_result"
    }
   ],
   "source": [
    "df.groupby(df.columns.tolist(),as_index=False).size()['size'].value_counts()"
   ]
  },
  {
   "cell_type": "markdown",
   "id": "5be10efd",
   "metadata": {},
   "source": [
    "## We have no duplicate values"
   ]
  },
  {
   "cell_type": "code",
   "execution_count": 30,
   "id": "620dd573",
   "metadata": {},
   "outputs": [],
   "source": [
    "label_df=df[['Computer Science', 'Physics', 'Mathematics',\n",
    "       'Statistics', 'Quantitative Biology', 'Quantitative Finance']]"
   ]
  },
  {
   "cell_type": "code",
   "execution_count": 31,
   "id": "15789c02",
   "metadata": {},
   "outputs": [],
   "source": [
    "text_df=df[['TITLE', 'ABSTRACT']]"
   ]
  },
  {
   "cell_type": "code",
   "execution_count": 32,
   "id": "847cea89",
   "metadata": {},
   "outputs": [],
   "source": [
    "frequency_labels=label_df.sum(axis=0)"
   ]
  },
  {
   "cell_type": "code",
   "execution_count": 33,
   "id": "5bfcb515",
   "metadata": {},
   "outputs": [
    {
     "data": {
      "image/png": "[encoded data removed]",
      "text/plain": [
       "<Figure size 640x480 with 1 Axes>"
      ]
     },
     "metadata": {},
     "output_type": "display_data"
    }
   ],
   "source": [
    "frequency_labels.plot(kind='bar')\n",
    "plt.show()"
   ]
  },
  {
   "cell_type": "markdown",
   "id": "85fdd615",
   "metadata": {},
   "source": [
    "## Data is fairly balanced between labels except Quantitative Biology and Quantitative Finance"
   ]
  },
  {
   "cell_type": "code",
   "execution_count": 34,
   "id": "7b7ad5d6",
   "metadata": {},
   "outputs": [],
   "source": [
    "no_of_labels=label_df.sum(axis=1)"
   ]
  },
  {
   "cell_type": "code",
   "execution_count": 35,
   "id": "2c1db077",
   "metadata": {},
   "outputs": [
    {
     "name": "stdout",
     "output_type": "stream",
     "text": [
      "Average number of labels per resarch paper is  1.2524794964714858\n"
     ]
    }
   ],
   "source": [
    "print(\"Average number of labels per resarch paper is \",no_of_labels.mean())"
   ]
  },
  {
   "cell_type": "code",
   "execution_count": 36,
   "id": "41a128ea",
   "metadata": {},
   "outputs": [
    {
     "name": "stdout",
     "output_type": "stream",
     "text": [
      "Maximum number of labels in a resarch paper is  3\n"
     ]
    }
   ],
   "source": [
    "print(\"Maximum number of labels in a resarch paper is \",no_of_labels.max())"
   ]
  },
  {
   "cell_type": "code",
   "execution_count": 37,
   "id": "3bd1131e",
   "metadata": {},
   "outputs": [
    {
     "name": "stdout",
     "output_type": "stream",
     "text": [
      "Minimum number of labels in a resarch paper is  1\n"
     ]
    }
   ],
   "source": [
    "print(\"Minimum number of labels in a resarch paper is \",no_of_labels.min())"
   ]
  },
  {
   "cell_type": "code",
   "execution_count": 38,
   "id": "9be90be5",
   "metadata": {},
   "outputs": [
    {
     "data": {
      "text/plain": [
       "<AxesSubplot: >"
      ]
     },
     "execution_count": 38,
     "metadata": {},
     "output_type": "execute_result"
    },
    {
     "data": {
      "image/png": "[encoded data removed]",
      "text/plain": [
       "<Figure size 640x480 with 1 Axes>"
      ]
     },
     "metadata": {},
     "output_type": "display_data"
    }
   ],
   "source": [
    "no_of_labels.value_counts().plot(kind='bar')"
   ]
  },
  {
   "cell_type": "markdown",
   "id": "1efd40ab",
   "metadata": {},
   "source": [
    "## We see that number of resarch paper having one label is quite high"
   ]
  },
  {
   "cell_type": "code",
   "execution_count": 39,
   "id": "95466333",
   "metadata": {},
   "outputs": [],
   "source": [
    "stopwords = nltk.corpus.stopwords.words('english')\n",
    "tokenizer=WhitespaceTokenizer()\n",
    "lemmatizer=WordNetLemmatizer()\n",
    "stemmer=PorterStemmer()\n",
    "def preprocess(text):\n",
    "    text=re.sub(r'\\n', ' ', text)\n",
    "    text=re.sub(r'-', ' ', text)\n",
    "    text=re.sub(r'\\s+', ' ', text)\n",
    "    text=re.sub(r'\\([A-za-z\\d]*\\)', '', text)\n",
    "    text=text.strip()\n",
    "    text=\"\".join([i for i in text if i not in string.punctuation])\n",
    "    text=text.lower()\n",
    "    tokens = tokenizer.tokenize(text)\n",
    "    output= [i for i in tokens if i not in stopwords]\n",
    "    stem_text=[stemmer.stem(word) for word in output]\n",
    "    lemm_text = [lemmatizer.lemmatize(word) for word in stem_text]\n",
    "    text=\" \".join(lemm_text)\n",
    "    return text"
   ]
  },
  {
   "cell_type": "code",
   "execution_count": 40,
   "id": "92171e56",
   "metadata": {},
   "outputs": [
    {
     "name": "stderr",
     "output_type": "stream",
     "text": [
      "C:\\Users\\kanis\\AppData\\Local\\Temp\\ipykernel_21752\\913529665.py:1: SettingWithCopyWarning: \n",
      "A value is trying to be set on a copy of a slice from a DataFrame.\n",
      "Try using .loc[row_indexer,col_indexer] = value instead\n",
      "\n",
      "See the caveats in the documentation: https://pandas.pydata.org/pandas-docs/stable/user_guide/indexing.html#returning-a-view-versus-a-copy\n",
      "  text_df['TITLE']= text_df['TITLE'].apply(lambda x: preprocess(x))\n",
      "C:\\Users\\kanis\\AppData\\Local\\Temp\\ipykernel_21752\\913529665.py:2: SettingWithCopyWarning: \n",
      "A value is trying to be set on a copy of a slice from a DataFrame.\n",
      "Try using .loc[row_indexer,col_indexer] = value instead\n",
      "\n",
      "See the caveats in the documentation: https://pandas.pydata.org/pandas-docs/stable/user_guide/indexing.html#returning-a-view-versus-a-copy\n",
      "  text_df['ABSTRACT']= text_df['ABSTRACT'].apply(lambda x: preprocess(x))\n"
     ]
    }
   ],
   "source": [
    "text_df['TITLE']= text_df['TITLE'].apply(lambda x: preprocess(x))\n",
    "text_df['ABSTRACT']= text_df['ABSTRACT'].apply(lambda x: preprocess(x))"
   ]
  },
  {
   "cell_type": "code",
   "execution_count": 41,
   "id": "51f12a98",
   "metadata": {},
   "outputs": [],
   "source": [
    "X_train,X_test,y_train,y_test=train_test_split(text_df,label_df,test_size=0.2)"
   ]
  },
  {
   "cell_type": "code",
   "execution_count": 42,
   "id": "100c5ee8",
   "metadata": {},
   "outputs": [
    {
     "name": "stdout",
     "output_type": "stream",
     "text": [
      "Number of points in training dataset  16777\n",
      "Number of points in test dataset  4195\n"
     ]
    }
   ],
   "source": [
    "print(\"Number of points in training dataset \",X_train.shape[0])\n",
    "print(\"Number of points in test dataset \",X_test.shape[0])"
   ]
  },
  {
   "cell_type": "code",
   "execution_count": 43,
   "id": "f6c46dfe",
   "metadata": {},
   "outputs": [],
   "source": [
    "X_train.to_csv('../dataset/X_train.csv',index=False)"
   ]
  },
  {
   "cell_type": "code",
   "execution_count": 44,
   "id": "fc690cec",
   "metadata": {},
   "outputs": [],
   "source": [
    "X_test.to_csv('../dataset/X_test.csv',index=False)"
   ]
  },
  {
   "cell_type": "code",
   "execution_count": 45,
   "id": "fdf62b37",
   "metadata": {},
   "outputs": [],
   "source": [
    "y_train.to_csv('../dataset/y_train.csv',index=False)"
   ]
  },
  {
   "cell_type": "code",
   "execution_count": 46,
   "id": "11f13d67",
   "metadata": {},
   "outputs": [],
   "source": [
    "y_test.to_csv('../dataset/y_test.csv',index=False)"
   ]
  },
  {
   "cell_type": "code",
   "execution_count": null,
   "id": "52b48012",
   "metadata": {},
   "outputs": [],
   "source": []
  },
  {
   "cell_type": "code",
   "execution_count": null,
   "id": "eb687d32",
   "metadata": {},
   "outputs": [],
   "source": []
  },
  {
   "cell_type": "code",
   "execution_count": null,
   "id": "27475d63",
   "metadata": {},
   "outputs": [],
   "source": []
  }
 ],
 "metadata": {
  "kernelspec": {
   "display_name": "Python 3 (ipykernel)",
   "language": "python",
   "name": "python3"
  },
  "language_info": {
   "codemirror_mode": {
    "name": "ipython",
    "version": 3
   },
   "file_extension": ".py",
   "mimetype": "text/x-python",
   "name": "python",
   "nbconvert_exporter": "python",
   "pygments_lexer": "ipython3",
   "version": "3.10.8"
  }
 },
 "nbformat": 4,
 "nbformat_minor": 5
}
