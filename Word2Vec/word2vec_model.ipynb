{
 "cells": [
  {
   "cell_type": "code",
   "execution_count": 110,
   "id": "308b3e2c",
   "metadata": {},
   "outputs": [],
   "source": [
    "import pandas as pd\n",
    "import numpy as np\n",
    "import gensim\n",
    "import re\n",
    "import nltk\n",
    "from nltk.corpus import stopwords\n",
    "from nltk import sent_tokenize\n",
    "from gensim.utils import simple_preprocess\n",
    "import tqdm\n",
    "from sklearn.model_selection import train_test_split\n",
    "from sklearn.multiclass import OneVsRestClassifier\n",
    "from sklearn import metrics\n",
    "from sklearn.linear_model import LogisticRegression\n",
    "from sklearn.naive_bayes import MultinomialNB\n",
    "from sklearn.svm import LinearSVC\n",
    "from sklearn.ensemble import RandomForestClassifier\n",
    "import pickle\n"
   ]
  },
  {
   "cell_type": "code",
   "execution_count": 73,
   "id": "2e85aa21",
   "metadata": {},
   "outputs": [],
   "source": [
    "df=pd.read_csv('../dataset/train.csv')"
   ]
  },
  {
   "cell_type": "code",
   "execution_count": 74,
   "id": "753f05d5",
   "metadata": {},
   "outputs": [
    {
     "data": {
      "text/html": [
       "<div>\n",
       "<style scoped>\n",
       "    .dataframe tbody tr th:only-of-type {\n",
       "        vertical-align: middle;\n",
       "    }\n",
       "\n",
       "    .dataframe tbody tr th {\n",
       "        vertical-align: top;\n",
       "    }\n",
       "\n",
       "    .dataframe thead th {\n",
       "        text-align: right;\n",
       "    }\n",
       "</style>\n",
       "<table border=\"1\" class=\"dataframe\">\n",
       "  <thead>\n",
       "    <tr style=\"text-align: right;\">\n",
       "      <th></th>\n",
       "      <th>ID</th>\n",
       "      <th>TITLE</th>\n",
       "      <th>ABSTRACT</th>\n",
       "      <th>Computer Science</th>\n",
       "      <th>Physics</th>\n",
       "      <th>Mathematics</th>\n",
       "      <th>Statistics</th>\n",
       "      <th>Quantitative Biology</th>\n",
       "      <th>Quantitative Finance</th>\n",
       "    </tr>\n",
       "  </thead>\n",
       "  <tbody>\n",
       "    <tr>\n",
       "      <th>0</th>\n",
       "      <td>1</td>\n",
       "      <td>Reconstructing Subject-Specific Effect Maps</td>\n",
       "      <td>Predictive models allow subject-specific inf...</td>\n",
       "      <td>1</td>\n",
       "      <td>0</td>\n",
       "      <td>0</td>\n",
       "      <td>0</td>\n",
       "      <td>0</td>\n",
       "      <td>0</td>\n",
       "    </tr>\n",
       "    <tr>\n",
       "      <th>1</th>\n",
       "      <td>2</td>\n",
       "      <td>Rotation Invariance Neural Network</td>\n",
       "      <td>Rotation invariance and translation invarian...</td>\n",
       "      <td>1</td>\n",
       "      <td>0</td>\n",
       "      <td>0</td>\n",
       "      <td>0</td>\n",
       "      <td>0</td>\n",
       "      <td>0</td>\n",
       "    </tr>\n",
       "    <tr>\n",
       "      <th>2</th>\n",
       "      <td>3</td>\n",
       "      <td>Spherical polyharmonics and Poisson kernels fo...</td>\n",
       "      <td>We introduce and develop the notion of spher...</td>\n",
       "      <td>0</td>\n",
       "      <td>0</td>\n",
       "      <td>1</td>\n",
       "      <td>0</td>\n",
       "      <td>0</td>\n",
       "      <td>0</td>\n",
       "    </tr>\n",
       "    <tr>\n",
       "      <th>3</th>\n",
       "      <td>4</td>\n",
       "      <td>A finite element approximation for the stochas...</td>\n",
       "      <td>The stochastic Landau--Lifshitz--Gilbert (LL...</td>\n",
       "      <td>0</td>\n",
       "      <td>0</td>\n",
       "      <td>1</td>\n",
       "      <td>0</td>\n",
       "      <td>0</td>\n",
       "      <td>0</td>\n",
       "    </tr>\n",
       "    <tr>\n",
       "      <th>4</th>\n",
       "      <td>5</td>\n",
       "      <td>Comparative study of Discrete Wavelet Transfor...</td>\n",
       "      <td>Fourier-transform infra-red (FTIR) spectra o...</td>\n",
       "      <td>1</td>\n",
       "      <td>0</td>\n",
       "      <td>0</td>\n",
       "      <td>1</td>\n",
       "      <td>0</td>\n",
       "      <td>0</td>\n",
       "    </tr>\n",
       "  </tbody>\n",
       "</table>\n",
       "</div>"
      ],
      "text/plain": [
       "   ID                                              TITLE  \\\n",
       "0   1        Reconstructing Subject-Specific Effect Maps   \n",
       "1   2                 Rotation Invariance Neural Network   \n",
       "2   3  Spherical polyharmonics and Poisson kernels fo...   \n",
       "3   4  A finite element approximation for the stochas...   \n",
       "4   5  Comparative study of Discrete Wavelet Transfor...   \n",
       "\n",
       "                                            ABSTRACT  Computer Science  \\\n",
       "0    Predictive models allow subject-specific inf...                 1   \n",
       "1    Rotation invariance and translation invarian...                 1   \n",
       "2    We introduce and develop the notion of spher...                 0   \n",
       "3    The stochastic Landau--Lifshitz--Gilbert (LL...                 0   \n",
       "4    Fourier-transform infra-red (FTIR) spectra o...                 1   \n",
       "\n",
       "   Physics  Mathematics  Statistics  Quantitative Biology  \\\n",
       "0        0            0           0                     0   \n",
       "1        0            0           0                     0   \n",
       "2        0            1           0                     0   \n",
       "3        0            1           0                     0   \n",
       "4        0            0           1                     0   \n",
       "\n",
       "   Quantitative Finance  \n",
       "0                     0  \n",
       "1                     0  \n",
       "2                     0  \n",
       "3                     0  \n",
       "4                     0  "
      ]
     },
     "execution_count": 74,
     "metadata": {},
     "output_type": "execute_result"
    }
   ],
   "source": [
    "df.head()"
   ]
  },
  {
   "cell_type": "code",
   "execution_count": 75,
   "id": "63bf8dda",
   "metadata": {},
   "outputs": [],
   "source": [
    "df=df.drop('ID',axis=1)"
   ]
  },
  {
   "cell_type": "code",
   "execution_count": 76,
   "id": "cb1678c6",
   "metadata": {},
   "outputs": [],
   "source": [
    "def remove_misc(text):\n",
    "    text=re.sub(r'\\n', ' ', text)\n",
    "    text=re.sub(r'-', ' ', text)\n",
    "    text=re.sub(r'\\s+', ' ', text)\n",
    "    text=re.sub(r'\\([A-za-z\\d]*\\)', '', text)\n",
    "    text=text.strip()\n",
    "    return text"
   ]
  },
  {
   "cell_type": "code",
   "execution_count": 77,
   "id": "b69d7f80",
   "metadata": {},
   "outputs": [],
   "source": [
    "df['TITLE'] = df['TITLE'].apply(remove_misc)\n",
    "df['ABSTRACT'] = df['ABSTRACT'].apply(remove_misc)"
   ]
  },
  {
   "cell_type": "code",
   "execution_count": 78,
   "id": "73b3bcbe",
   "metadata": {},
   "outputs": [],
   "source": [
    "df['TITLE'] = df['TITLE'].apply(lambda x:x.lower())\n",
    "df['ABSTRACT'] = df['ABSTRACT'].apply(lambda x:x.lower())"
   ]
  },
  {
   "cell_type": "code",
   "execution_count": 79,
   "id": "a5b147df",
   "metadata": {},
   "outputs": [
    {
     "data": {
      "text/html": [
       "<div>\n",
       "<style scoped>\n",
       "    .dataframe tbody tr th:only-of-type {\n",
       "        vertical-align: middle;\n",
       "    }\n",
       "\n",
       "    .dataframe tbody tr th {\n",
       "        vertical-align: top;\n",
       "    }\n",
       "\n",
       "    .dataframe thead th {\n",
       "        text-align: right;\n",
       "    }\n",
       "</style>\n",
       "<table border=\"1\" class=\"dataframe\">\n",
       "  <thead>\n",
       "    <tr style=\"text-align: right;\">\n",
       "      <th></th>\n",
       "      <th>TITLE</th>\n",
       "      <th>ABSTRACT</th>\n",
       "      <th>Computer Science</th>\n",
       "      <th>Physics</th>\n",
       "      <th>Mathematics</th>\n",
       "      <th>Statistics</th>\n",
       "      <th>Quantitative Biology</th>\n",
       "      <th>Quantitative Finance</th>\n",
       "    </tr>\n",
       "  </thead>\n",
       "  <tbody>\n",
       "    <tr>\n",
       "      <th>0</th>\n",
       "      <td>reconstructing subject specific effect maps</td>\n",
       "      <td>predictive models allow subject specific infer...</td>\n",
       "      <td>1</td>\n",
       "      <td>0</td>\n",
       "      <td>0</td>\n",
       "      <td>0</td>\n",
       "      <td>0</td>\n",
       "      <td>0</td>\n",
       "    </tr>\n",
       "    <tr>\n",
       "      <th>1</th>\n",
       "      <td>rotation invariance neural network</td>\n",
       "      <td>rotation invariance and translation invariance...</td>\n",
       "      <td>1</td>\n",
       "      <td>0</td>\n",
       "      <td>0</td>\n",
       "      <td>0</td>\n",
       "      <td>0</td>\n",
       "      <td>0</td>\n",
       "    </tr>\n",
       "    <tr>\n",
       "      <th>2</th>\n",
       "      <td>spherical polyharmonics and poisson kernels fo...</td>\n",
       "      <td>we introduce and develop the notion of spheric...</td>\n",
       "      <td>0</td>\n",
       "      <td>0</td>\n",
       "      <td>1</td>\n",
       "      <td>0</td>\n",
       "      <td>0</td>\n",
       "      <td>0</td>\n",
       "    </tr>\n",
       "    <tr>\n",
       "      <th>3</th>\n",
       "      <td>a finite element approximation for the stochas...</td>\n",
       "      <td>the stochastic landau lifshitz gilbert  equati...</td>\n",
       "      <td>0</td>\n",
       "      <td>0</td>\n",
       "      <td>1</td>\n",
       "      <td>0</td>\n",
       "      <td>0</td>\n",
       "      <td>0</td>\n",
       "    </tr>\n",
       "    <tr>\n",
       "      <th>4</th>\n",
       "      <td>comparative study of discrete wavelet transfor...</td>\n",
       "      <td>fourier transform infra red  spectra of sample...</td>\n",
       "      <td>1</td>\n",
       "      <td>0</td>\n",
       "      <td>0</td>\n",
       "      <td>1</td>\n",
       "      <td>0</td>\n",
       "      <td>0</td>\n",
       "    </tr>\n",
       "  </tbody>\n",
       "</table>\n",
       "</div>"
      ],
      "text/plain": [
       "                                               TITLE  \\\n",
       "0        reconstructing subject specific effect maps   \n",
       "1                 rotation invariance neural network   \n",
       "2  spherical polyharmonics and poisson kernels fo...   \n",
       "3  a finite element approximation for the stochas...   \n",
       "4  comparative study of discrete wavelet transfor...   \n",
       "\n",
       "                                            ABSTRACT  Computer Science  \\\n",
       "0  predictive models allow subject specific infer...                 1   \n",
       "1  rotation invariance and translation invariance...                 1   \n",
       "2  we introduce and develop the notion of spheric...                 0   \n",
       "3  the stochastic landau lifshitz gilbert  equati...                 0   \n",
       "4  fourier transform infra red  spectra of sample...                 1   \n",
       "\n",
       "   Physics  Mathematics  Statistics  Quantitative Biology  \\\n",
       "0        0            0           0                     0   \n",
       "1        0            0           0                     0   \n",
       "2        0            1           0                     0   \n",
       "3        0            1           0                     0   \n",
       "4        0            0           1                     0   \n",
       "\n",
       "   Quantitative Finance  \n",
       "0                     0  \n",
       "1                     0  \n",
       "2                     0  \n",
       "3                     0  \n",
       "4                     0  "
      ]
     },
     "execution_count": 79,
     "metadata": {},
     "output_type": "execute_result"
    }
   ],
   "source": [
    "df.head()"
   ]
  },
  {
   "cell_type": "code",
   "execution_count": 80,
   "id": "7b5b3252",
   "metadata": {},
   "outputs": [],
   "source": [
    "sw_list = stopwords.words('english')\n",
    "\n",
    "df['TITLE'] = df['TITLE'].apply(lambda x: [item for item in x.split() if item not in sw_list]).apply(lambda x:\" \".join(x))\n",
    "df['ABSTRACT'] = df['ABSTRACT'].apply(lambda x: [item for item in x.split() if item not in sw_list]).apply(lambda x:\" \".join(x))"
   ]
  },
  {
   "cell_type": "code",
   "execution_count": 81,
   "id": "92665987",
   "metadata": {},
   "outputs": [
    {
     "data": {
      "text/html": [
       "<div>\n",
       "<style scoped>\n",
       "    .dataframe tbody tr th:only-of-type {\n",
       "        vertical-align: middle;\n",
       "    }\n",
       "\n",
       "    .dataframe tbody tr th {\n",
       "        vertical-align: top;\n",
       "    }\n",
       "\n",
       "    .dataframe thead th {\n",
       "        text-align: right;\n",
       "    }\n",
       "</style>\n",
       "<table border=\"1\" class=\"dataframe\">\n",
       "  <thead>\n",
       "    <tr style=\"text-align: right;\">\n",
       "      <th></th>\n",
       "      <th>TITLE</th>\n",
       "      <th>ABSTRACT</th>\n",
       "      <th>Computer Science</th>\n",
       "      <th>Physics</th>\n",
       "      <th>Mathematics</th>\n",
       "      <th>Statistics</th>\n",
       "      <th>Quantitative Biology</th>\n",
       "      <th>Quantitative Finance</th>\n",
       "    </tr>\n",
       "  </thead>\n",
       "  <tbody>\n",
       "    <tr>\n",
       "      <th>0</th>\n",
       "      <td>reconstructing subject specific effect maps</td>\n",
       "      <td>predictive models allow subject specific infer...</td>\n",
       "      <td>1</td>\n",
       "      <td>0</td>\n",
       "      <td>0</td>\n",
       "      <td>0</td>\n",
       "      <td>0</td>\n",
       "      <td>0</td>\n",
       "    </tr>\n",
       "    <tr>\n",
       "      <th>1</th>\n",
       "      <td>rotation invariance neural network</td>\n",
       "      <td>rotation invariance translation invariance gre...</td>\n",
       "      <td>1</td>\n",
       "      <td>0</td>\n",
       "      <td>0</td>\n",
       "      <td>0</td>\n",
       "      <td>0</td>\n",
       "      <td>0</td>\n",
       "    </tr>\n",
       "    <tr>\n",
       "      <th>2</th>\n",
       "      <td>spherical polyharmonics poisson kernels polyha...</td>\n",
       "      <td>introduce develop notion spherical polyharmoni...</td>\n",
       "      <td>0</td>\n",
       "      <td>0</td>\n",
       "      <td>1</td>\n",
       "      <td>0</td>\n",
       "      <td>0</td>\n",
       "      <td>0</td>\n",
       "    </tr>\n",
       "    <tr>\n",
       "      <th>3</th>\n",
       "      <td>finite element approximation stochastic maxwel...</td>\n",
       "      <td>stochastic landau lifshitz gilbert equation co...</td>\n",
       "      <td>0</td>\n",
       "      <td>0</td>\n",
       "      <td>1</td>\n",
       "      <td>0</td>\n",
       "      <td>0</td>\n",
       "      <td>0</td>\n",
       "    </tr>\n",
       "    <tr>\n",
       "      <th>4</th>\n",
       "      <td>comparative study discrete wavelet transforms ...</td>\n",
       "      <td>fourier transform infra red spectra samples 7 ...</td>\n",
       "      <td>1</td>\n",
       "      <td>0</td>\n",
       "      <td>0</td>\n",
       "      <td>1</td>\n",
       "      <td>0</td>\n",
       "      <td>0</td>\n",
       "    </tr>\n",
       "  </tbody>\n",
       "</table>\n",
       "</div>"
      ],
      "text/plain": [
       "                                               TITLE  \\\n",
       "0        reconstructing subject specific effect maps   \n",
       "1                 rotation invariance neural network   \n",
       "2  spherical polyharmonics poisson kernels polyha...   \n",
       "3  finite element approximation stochastic maxwel...   \n",
       "4  comparative study discrete wavelet transforms ...   \n",
       "\n",
       "                                            ABSTRACT  Computer Science  \\\n",
       "0  predictive models allow subject specific infer...                 1   \n",
       "1  rotation invariance translation invariance gre...                 1   \n",
       "2  introduce develop notion spherical polyharmoni...                 0   \n",
       "3  stochastic landau lifshitz gilbert equation co...                 0   \n",
       "4  fourier transform infra red spectra samples 7 ...                 1   \n",
       "\n",
       "   Physics  Mathematics  Statistics  Quantitative Biology  \\\n",
       "0        0            0           0                     0   \n",
       "1        0            0           0                     0   \n",
       "2        0            1           0                     0   \n",
       "3        0            1           0                     0   \n",
       "4        0            0           1                     0   \n",
       "\n",
       "   Quantitative Finance  \n",
       "0                     0  \n",
       "1                     0  \n",
       "2                     0  \n",
       "3                     0  \n",
       "4                     0  "
      ]
     },
     "execution_count": 81,
     "metadata": {},
     "output_type": "execute_result"
    }
   ],
   "source": [
    "df.head()"
   ]
  },
  {
   "cell_type": "code",
   "execution_count": null,
   "id": "16079388",
   "metadata": {},
   "outputs": [],
   "source": [
    "title = []\n",
    "for doc in df['TITLE']:\n",
    "    raw_sent = sent_tokenize(doc)\n",
    "    for sent in raw_sent:\n",
    "        title.append(simple_preprocess(sent))\n",
    "abstract=[]\n",
    "for doc in df['ABSTRACT']:\n",
    "    raw_sent = sent_tokenize(doc)\n",
    "    for sent in raw_sent:\n",
    "        abstract.append(simple_preprocess(sent))"
   ]
  },
  {
   "cell_type": "code",
   "execution_count": null,
   "id": "7a3e068e",
   "metadata": {},
   "outputs": [],
   "source": [
    "model_title = gensim.models.Word2Vec(\n",
    "    window=4,\n",
    "    min_count=2\n",
    ")\n",
    "\n",
    "model_abstract= gensim.models.Word2Vec(\n",
    "    window=7,\n",
    "    min_count=4\n",
    ")"
   ]
  },
  {
   "cell_type": "code",
   "execution_count": null,
   "id": "324aa564",
   "metadata": {},
   "outputs": [],
   "source": [
    "model_title.build_vocab(title)\n",
    "model_abstract.build_vocab(abstract)"
   ]
  },
  {
   "cell_type": "code",
   "execution_count": null,
   "id": "534b0a5a",
   "metadata": {},
   "outputs": [],
   "source": [
    "model_title.train(title, total_examples=model_title.corpus_count, epochs=100)\n",
    "model_abstract.train(abstract, total_examples=model_abstract.corpus_count, epochs=100)"
   ]
  },
  {
   "cell_type": "code",
   "execution_count": 82,
   "id": "6427e78a",
   "metadata": {},
   "outputs": [],
   "source": [
    "model_abstract=gensim.models.Word2Vec.load('Word2vec Model/model_abstract.model')\n",
    "model_title=gensim.models.Word2Vec.load('Word2vec Model/model_title.model')"
   ]
  },
  {
   "cell_type": "code",
   "execution_count": null,
   "id": "6b767325",
   "metadata": {},
   "outputs": [],
   "source": [
    "model_title.save('Word2vec Model/model_title.model')"
   ]
  },
  {
   "cell_type": "code",
   "execution_count": null,
   "id": "222104e1",
   "metadata": {},
   "outputs": [],
   "source": [
    "model_abstract.save('Word2vec Model/model_abstract.model')"
   ]
  },
  {
   "cell_type": "code",
   "execution_count": 83,
   "id": "9b0ef518",
   "metadata": {},
   "outputs": [],
   "source": [
    "\n",
    "def document_vector(doc,model,i):\n",
    "    doc = [word for word in doc.split() if word in model.wv.index_to_key]\n",
    "    if len(doc)==0:\n",
    "        return np.zeros((100))\n",
    "    return np.mean(model.wv[doc], axis=0)"
   ]
  },
  {
   "cell_type": "code",
   "execution_count": 84,
   "id": "a67bbc13",
   "metadata": {},
   "outputs": [
    {
     "name": "stderr",
     "output_type": "stream",
     "text": [
      "20972it [02:30, 139.18it/s]\n"
     ]
    }
   ],
   "source": [
    "X_abstract = []\n",
    "for i,doc in tqdm.tqdm(enumerate(df['ABSTRACT'].values)):\n",
    "    X_abstract.append(document_vector(doc,model_abstract,i))"
   ]
  },
  {
   "cell_type": "code",
   "execution_count": 85,
   "id": "4db5fa9c",
   "metadata": {},
   "outputs": [
    {
     "name": "stderr",
     "output_type": "stream",
     "text": [
      "20972it [00:09, 2308.93it/s]\n"
     ]
    }
   ],
   "source": [
    "X_title= []\n",
    "for i,doc in tqdm.tqdm(enumerate(df['TITLE'].values)):\n",
    "    X_title.append(document_vector(doc,model_abstract,i))"
   ]
  },
  {
   "cell_type": "code",
   "execution_count": 86,
   "id": "65893ef9",
   "metadata": {},
   "outputs": [],
   "source": [
    "X_train_abstract=np.array(X_abstract)"
   ]
  },
  {
   "cell_type": "code",
   "execution_count": 87,
   "id": "feed0f82",
   "metadata": {},
   "outputs": [],
   "source": [
    "X_train_title=np.array(X_title)"
   ]
  },
  {
   "cell_type": "code",
   "execution_count": 88,
   "id": "251480c4",
   "metadata": {},
   "outputs": [
    {
     "data": {
      "text/plain": [
       "(20972, 100)"
      ]
     },
     "execution_count": 88,
     "metadata": {},
     "output_type": "execute_result"
    }
   ],
   "source": [
    "X_train_abstract.shape"
   ]
  },
  {
   "cell_type": "code",
   "execution_count": 89,
   "id": "51542cf4",
   "metadata": {},
   "outputs": [
    {
     "data": {
      "text/plain": [
       "(20972, 100)"
      ]
     },
     "execution_count": 89,
     "metadata": {},
     "output_type": "execute_result"
    }
   ],
   "source": [
    "X_train_title.shape"
   ]
  },
  {
   "cell_type": "code",
   "execution_count": 90,
   "id": "ac21f652",
   "metadata": {},
   "outputs": [],
   "source": [
    "X_train=np.hstack((X_train_title,X_train_abstract))"
   ]
  },
  {
   "cell_type": "code",
   "execution_count": 91,
   "id": "201efc76",
   "metadata": {},
   "outputs": [
    {
     "data": {
      "text/plain": [
       "(20972, 200)"
      ]
     },
     "execution_count": 91,
     "metadata": {},
     "output_type": "execute_result"
    }
   ],
   "source": [
    "X_train.shape"
   ]
  },
  {
   "cell_type": "code",
   "execution_count": 92,
   "id": "b2bdb425",
   "metadata": {},
   "outputs": [],
   "source": [
    "y_train=df[['Computer Science','Physics','Mathematics','Statistics','Quantitative Biology','Quantitative Finance']]"
   ]
  },
  {
   "cell_type": "code",
   "execution_count": 93,
   "id": "f7907fe6",
   "metadata": {},
   "outputs": [],
   "source": [
    "y_train=y_train.values"
   ]
  },
  {
   "cell_type": "code",
   "execution_count": 94,
   "id": "0abc9568",
   "metadata": {},
   "outputs": [
    {
     "data": {
      "text/plain": [
       "(20972, 6)"
      ]
     },
     "execution_count": 94,
     "metadata": {},
     "output_type": "execute_result"
    }
   ],
   "source": [
    "y_train.shape"
   ]
  },
  {
   "cell_type": "code",
   "execution_count": 95,
   "id": "7f91cbf1",
   "metadata": {},
   "outputs": [],
   "source": [
    "X_train_final,X_test_final,y_train,y_test=train_test_split(X_train,y_train,test_size=0.2)"
   ]
  },
  {
   "cell_type": "markdown",
   "id": "b0717d5d",
   "metadata": {},
   "source": [
    "## Logistic regression Model"
   ]
  },
  {
   "cell_type": "code",
   "execution_count": 104,
   "id": "b7c23251",
   "metadata": {},
   "outputs": [
    {
     "name": "stdout",
     "output_type": "stream",
     "text": [
      "Accuracy : 0.6491060786650775\n",
      "Hamming loss  0.07747318235995232\n",
      "Micro-average quality numbers\n",
      "Precision: 0.8306, Recall: 0.7894, F1-measure: 0.8095\n",
      "Macro-average quality numbers\n",
      "Precision: 0.7431, Recall: 0.6558, F1-measure: 0.6927\n"
     ]
    }
   ],
   "source": [
    "lr_classifier = OneVsRestClassifier(LogisticRegression(penalty='elasticnet',max_iter=1000,solver='saga',l1_ratio=0.5))\n",
    "lr_classifier.fit(X_train_final, y_train)\n",
    "predictions = lr_classifier.predict (X_test_final)\n",
    "\n",
    "\n",
    "print(\"Accuracy :\",metrics.accuracy_score(y_test, predictions))\n",
    "print(\"Hamming loss \",metrics.hamming_loss(y_test,predictions))\n",
    "\n",
    "\n",
    "precision = metrics.precision_score(y_test, predictions, average='micro')\n",
    "recall = metrics.recall_score(y_test, predictions, average='micro')\n",
    "f1 = metrics.f1_score(y_test, predictions, average='micro')\n",
    " \n",
    "print(\"Micro-average quality numbers\")\n",
    "print(\"Precision: {:.4f}, Recall: {:.4f}, F1-measure: {:.4f}\".format(precision, recall, f1))\n",
    "\n",
    "precision = metrics.precision_score(y_test, predictions, average='macro')\n",
    "recall = metrics.recall_score(y_test, predictions, average='macro')\n",
    "f1 = metrics.f1_score(y_test, predictions, average='macro')\n",
    " \n",
    "print(\"Macro-average quality numbers\")\n",
    "print(\"Precision: {:.4f}, Recall: {:.4f}, F1-measure: {:.4f}\".format(precision, recall, f1))"
   ]
  },
  {
   "cell_type": "code",
   "execution_count": 99,
   "id": "456c64fa",
   "metadata": {},
   "outputs": [
    {
     "name": "stdout",
     "output_type": "stream",
     "text": [
      "For C  0.1\n",
      "Accuracy : 0.6500595947556616\n",
      "Micro-average quality numbers\n",
      "Precision: 0.8328, Recall: 0.7879, F1-measure: 0.8098\n",
      "Macro-average quality numbers\n",
      "Precision: 0.7537, Recall: 0.6439, F1-measure: 0.6871\n",
      "\n",
      "\n",
      "\n",
      "For C  0.01\n",
      "Accuracy : 0.6483909415971395\n",
      "Micro-average quality numbers\n",
      "Precision: 0.8370, Recall: 0.7816, F1-measure: 0.8084\n",
      "Macro-average quality numbers\n",
      "Precision: 0.7684, Recall: 0.6055, F1-measure: 0.6567\n",
      "\n",
      "\n",
      "\n",
      "For C  0.001\n",
      "Accuracy : 0.6410011918951132\n",
      "Micro-average quality numbers\n",
      "Precision: 0.8388, Recall: 0.7607, F1-measure: 0.7978\n",
      "Macro-average quality numbers\n",
      "Precision: 0.8286, Recall: 0.5238, F1-measure: 0.5528\n",
      "\n",
      "\n",
      "\n",
      "For C  1\n",
      "Accuracy : 0.6491060786650775\n",
      "Micro-average quality numbers\n",
      "Precision: 0.8311, Recall: 0.7893, F1-measure: 0.8096\n",
      "Macro-average quality numbers\n",
      "Precision: 0.7434, Recall: 0.6571, F1-measure: 0.6941\n",
      "\n",
      "\n",
      "\n",
      "For C  10\n",
      "Accuracy : 0.6491060786650775\n",
      "Micro-average quality numbers\n",
      "Precision: 0.8302, Recall: 0.7898, F1-measure: 0.8095\n",
      "Macro-average quality numbers\n",
      "Precision: 0.7335, Recall: 0.6558, F1-measure: 0.6893\n",
      "\n",
      "\n",
      "\n",
      "For C  100\n",
      "Accuracy : 0.6491060786650775\n",
      "Micro-average quality numbers\n",
      "Precision: 0.8301, Recall: 0.7887, F1-measure: 0.8089\n",
      "Macro-average quality numbers\n",
      "Precision: 0.7303, Recall: 0.6551, F1-measure: 0.6878\n",
      "\n",
      "\n",
      "\n"
     ]
    }
   ],
   "source": [
    "C=[0.1,0.01,0.001,1,10,100]\n",
    "penalty=['l1', 'l2', 'elasticnet', 'none']\n",
    "for c in C:\n",
    "    print(\"For C \",c)\n",
    "    lr_classifier = OneVsRestClassifier(LogisticRegression(C=c,max_iter=500))\n",
    "    lr_classifier.fit(X_train_final, y_train)\n",
    "    predictions = lr_classifier.predict (X_test_final)\n",
    "\n",
    "\n",
    "    print(\"Accuracy :\",metrics.accuracy_score(y_test, predictions))\n",
    "\n",
    "\n",
    "    precision = metrics.precision_score(y_test, predictions, average='micro')\n",
    "    recall = metrics.recall_score(y_test, predictions, average='micro')\n",
    "    f1 = metrics.f1_score(y_test, predictions, average='micro')\n",
    " \n",
    "    print(\"Micro-average quality numbers\")\n",
    "    print(\"Precision: {:.4f}, Recall: {:.4f}, F1-measure: {:.4f}\".format(precision, recall, f1))\n",
    "\n",
    "    precision = metrics.precision_score(y_test, predictions, average='macro')\n",
    "    recall = metrics.recall_score(y_test, predictions, average='macro')\n",
    "    f1 = metrics.f1_score(y_test, predictions, average='macro')\n",
    " \n",
    "    print(\"Macro-average quality numbers\")\n",
    "    print(\"Precision: {:.4f}, Recall: {:.4f}, F1-measure: {:.4f}\".format(precision, recall, f1))\n",
    "        \n",
    "    print('\\n\\n')"
   ]
  },
  {
   "cell_type": "code",
   "execution_count": 105,
   "id": "c1e72979",
   "metadata": {},
   "outputs": [
    {
     "name": "stdout",
     "output_type": "stream",
     "text": [
      "Accuracy : 0.6491060786650775\n",
      "Micro-average quality numbers\n",
      "Precision: 0.8311, Recall: 0.7893, F1-measure: 0.8096\n",
      "Macro-average quality numbers\n",
      "Precision: 0.7434, Recall: 0.6571, F1-measure: 0.6941\n",
      "\n",
      "\n",
      "\n"
     ]
    }
   ],
   "source": [
    "lr_classifier = OneVsRestClassifier(LogisticRegression(C=1,max_iter=500))\n",
    "lr_classifier.fit(X_train_final, y_train)\n",
    "predictions = lr_classifier.predict (X_test_final)\n",
    "\n",
    "\n",
    "print(\"Accuracy :\",metrics.accuracy_score(y_test, predictions))\n",
    "\n",
    "\n",
    "precision = metrics.precision_score(y_test, predictions, average='micro')\n",
    "recall = metrics.recall_score(y_test, predictions, average='micro')\n",
    "f1 = metrics.f1_score(y_test, predictions, average='micro')\n",
    " \n",
    "print(\"Micro-average quality numbers\")\n",
    "print(\"Precision: {:.4f}, Recall: {:.4f}, F1-measure: {:.4f}\".format(precision, recall, f1))\n",
    "\n",
    "precision = metrics.precision_score(y_test, predictions, average='macro')\n",
    "recall = metrics.recall_score(y_test, predictions, average='macro')\n",
    "f1 = metrics.f1_score(y_test, predictions, average='macro')\n",
    " \n",
    "print(\"Macro-average quality numbers\")\n",
    "print(\"Precision: {:.4f}, Recall: {:.4f}, F1-measure: {:.4f}\".format(precision, recall, f1))\n",
    "        \n",
    "print('\\n\\n')"
   ]
  },
  {
   "cell_type": "code",
   "execution_count": null,
   "id": "a0dc7346",
   "metadata": {},
   "outputs": [],
   "source": []
  },
  {
   "cell_type": "code",
   "execution_count": 107,
   "id": "ee01c726",
   "metadata": {},
   "outputs": [
    {
     "name": "stderr",
     "output_type": "stream",
     "text": [
      "C:\\Users\\kanis\\anaconda3\\envs\\toxic_comment_project\\lib\\site-packages\\sklearn\\svm\\_base.py:1225: ConvergenceWarning: Liblinear failed to converge, increase the number of iterations.\n",
      "  warnings.warn(\n",
      "C:\\Users\\kanis\\anaconda3\\envs\\toxic_comment_project\\lib\\site-packages\\sklearn\\svm\\_base.py:1225: ConvergenceWarning: Liblinear failed to converge, increase the number of iterations.\n",
      "  warnings.warn(\n",
      "C:\\Users\\kanis\\anaconda3\\envs\\toxic_comment_project\\lib\\site-packages\\sklearn\\svm\\_base.py:1225: ConvergenceWarning: Liblinear failed to converge, increase the number of iterations.\n",
      "  warnings.warn(\n",
      "C:\\Users\\kanis\\anaconda3\\envs\\toxic_comment_project\\lib\\site-packages\\sklearn\\svm\\_base.py:1225: ConvergenceWarning: Liblinear failed to converge, increase the number of iterations.\n",
      "  warnings.warn(\n",
      "C:\\Users\\kanis\\anaconda3\\envs\\toxic_comment_project\\lib\\site-packages\\sklearn\\svm\\_base.py:1225: ConvergenceWarning: Liblinear failed to converge, increase the number of iterations.\n",
      "  warnings.warn(\n"
     ]
    },
    {
     "name": "stdout",
     "output_type": "stream",
     "text": [
      "Accuracy : 0.6498212157330155\n",
      "Hamming loss  0.07711561382598331\n",
      "Micro-average quality numbers\n",
      "Precision: 0.8334, Recall: 0.7875, F1-measure: 0.8098\n",
      "Macro-average quality numbers\n",
      "Precision: 0.7495, Recall: 0.6404, F1-measure: 0.6825\n"
     ]
    },
    {
     "name": "stderr",
     "output_type": "stream",
     "text": [
      "C:\\Users\\kanis\\anaconda3\\envs\\toxic_comment_project\\lib\\site-packages\\sklearn\\svm\\_base.py:1225: ConvergenceWarning: Liblinear failed to converge, increase the number of iterations.\n",
      "  warnings.warn(\n"
     ]
    }
   ],
   "source": [
    "classifier = OneVsRestClassifier(LinearSVC(max_iter=3000))\n",
    "classifier.fit(X_train_final, y_train)\n",
    "predictions = classifier.predict (X_test_final)\n",
    "\n",
    "\n",
    "print(\"Accuracy :\",metrics.accuracy_score(y_test, predictions))\n",
    "print(\"Hamming loss \",metrics.hamming_loss(y_test,predictions))\n",
    "\n",
    "\n",
    "precision = metrics.precision_score(y_test, predictions, average='micro')\n",
    "recall = metrics.recall_score(y_test, predictions, average='micro')\n",
    "f1 = metrics.f1_score(y_test, predictions, average='micro')\n",
    " \n",
    "print(\"Micro-average quality numbers\")\n",
    "print(\"Precision: {:.4f}, Recall: {:.4f}, F1-measure: {:.4f}\".format(precision, recall, f1))\n",
    "\n",
    "precision = metrics.precision_score(y_test, predictions, average='macro')\n",
    "recall = metrics.recall_score(y_test, predictions, average='macro')\n",
    "f1 = metrics.f1_score(y_test, predictions, average='macro')\n",
    " \n",
    "print(\"Macro-average quality numbers\")\n",
    "print(\"Precision: {:.4f}, Recall: {:.4f}, F1-measure: {:.4f}\".format(precision, recall, f1))"
   ]
  },
  {
   "cell_type": "code",
   "execution_count": 108,
   "id": "6a36a034",
   "metadata": {},
   "outputs": [
    {
     "name": "stderr",
     "output_type": "stream",
     "text": [
      "C:\\Users\\kanis\\anaconda3\\envs\\toxic_comment_project\\lib\\site-packages\\sklearn\\svm\\_base.py:1225: ConvergenceWarning: Liblinear failed to converge, increase the number of iterations.\n",
      "  warnings.warn(\n",
      "C:\\Users\\kanis\\anaconda3\\envs\\toxic_comment_project\\lib\\site-packages\\sklearn\\svm\\_base.py:1225: ConvergenceWarning: Liblinear failed to converge, increase the number of iterations.\n",
      "  warnings.warn(\n",
      "C:\\Users\\kanis\\anaconda3\\envs\\toxic_comment_project\\lib\\site-packages\\sklearn\\svm\\_base.py:1225: ConvergenceWarning: Liblinear failed to converge, increase the number of iterations.\n",
      "  warnings.warn(\n",
      "C:\\Users\\kanis\\anaconda3\\envs\\toxic_comment_project\\lib\\site-packages\\sklearn\\svm\\_base.py:1225: ConvergenceWarning: Liblinear failed to converge, increase the number of iterations.\n",
      "  warnings.warn(\n",
      "C:\\Users\\kanis\\anaconda3\\envs\\toxic_comment_project\\lib\\site-packages\\sklearn\\svm\\_base.py:1225: ConvergenceWarning: Liblinear failed to converge, increase the number of iterations.\n",
      "  warnings.warn(\n"
     ]
    },
    {
     "name": "stdout",
     "output_type": "stream",
     "text": [
      "Accuracy : 0.6493444576877235\n",
      "Hamming loss  0.07719507350019865\n",
      "Micro-average quality numbers\n",
      "Precision: 0.8335, Recall: 0.7870, F1-measure: 0.8096\n",
      "Macro-average quality numbers\n",
      "Precision: 0.7496, Recall: 0.6400, F1-measure: 0.6823\n"
     ]
    },
    {
     "name": "stderr",
     "output_type": "stream",
     "text": [
      "C:\\Users\\kanis\\anaconda3\\envs\\toxic_comment_project\\lib\\site-packages\\sklearn\\svm\\_base.py:1225: ConvergenceWarning: Liblinear failed to converge, increase the number of iterations.\n",
      "  warnings.warn(\n"
     ]
    }
   ],
   "source": [
    "rf_classifier = OneVsRestClassifier(RandomForestClassifier())\n",
    "classifier.fit(X_train_final, y_train)\n",
    "predictions = classifier.predict (X_test_final)\n",
    "\n",
    "\n",
    "print(\"Accuracy :\",metrics.accuracy_score(y_test, predictions))\n",
    "print(\"Hamming loss \",metrics.hamming_loss(y_test,predictions))\n",
    "\n",
    "\n",
    "precision = metrics.precision_score(y_test, predictions, average='micro')\n",
    "recall = metrics.recall_score(y_test, predictions, average='micro')\n",
    "f1 = metrics.f1_score(y_test, predictions, average='micro')\n",
    " \n",
    "print(\"Micro-average quality numbers\")\n",
    "print(\"Precision: {:.4f}, Recall: {:.4f}, F1-measure: {:.4f}\".format(precision, recall, f1))\n",
    "\n",
    "precision = metrics.precision_score(y_test, predictions, average='macro')\n",
    "recall = metrics.recall_score(y_test, predictions, average='macro')\n",
    "f1 = metrics.f1_score(y_test, predictions, average='macro')\n",
    " \n",
    "print(\"Macro-average quality numbers\")\n",
    "print(\"Precision: {:.4f}, Recall: {:.4f}, F1-measure: {:.4f}\".format(precision, recall, f1))"
   ]
  },
  {
   "cell_type": "code",
   "execution_count": 111,
   "id": "15a83c24",
   "metadata": {},
   "outputs": [],
   "source": [
    "with open('../models/word2vec_lr.pkl', 'wb') as fid:\n",
    "    pickle.dump(lr_classifier, fid)"
   ]
  },
  {
   "cell_type": "code",
   "execution_count": null,
   "id": "82c27bf7",
   "metadata": {},
   "outputs": [],
   "source": []
  }
 ],
 "metadata": {
  "kernelspec": {
   "display_name": "Python 3 (ipykernel)",
   "language": "python",
   "name": "python3"
  },
  "language_info": {
   "codemirror_mode": {
    "name": "ipython",
    "version": 3
   },
   "file_extension": ".py",
   "mimetype": "text/x-python",
   "name": "python",
   "nbconvert_exporter": "python",
   "pygments_lexer": "ipython3",
   "version": "3.10.8"
  }
 },
 "nbformat": 4,
 "nbformat_minor": 5
}
