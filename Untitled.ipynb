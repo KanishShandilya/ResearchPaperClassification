{
 "cells": [
  {
   "cell_type": "code",
   "execution_count": 1,
   "id": "437f4d44",
   "metadata": {},
   "outputs": [],
   "source": [
    "from transformers import AutoModelForSequenceClassification\n",
    "import torch\n",
    "from transformers import AutoTokenizer\n",
    "from transformers import pipeline\n",
    "import pandas as pd\n",
    "import re\n",
    "import string\n",
    "import numpy as np\n",
    "from sklearn.metrics import accuracy_score,f1_score,precision_score,recall_score"
   ]
  },
  {
   "cell_type": "code",
   "execution_count": 2,
   "id": "f97167b7",
   "metadata": {},
   "outputs": [],
   "source": [
    "num_labels=6\n",
    "\n",
    "model = AutoModelForSequenceClassification.from_pretrained(\"checkpoint-23500\", num_labels=num_labels, problem_type=\"multi_label_classification\")\n",
    "\n",
    "tokenizer = AutoTokenizer.from_pretrained(\"checkpoint-23500\",problem_type=\"multi_label_classification\")"
   ]
  },
  {
   "cell_type": "code",
   "execution_count": 4,
   "id": "c81fd6b4",
   "metadata": {},
   "outputs": [],
   "source": [
    "df=pd.read_csv(\"../dataset/X_test.csv\")"
   ]
  },
  {
   "cell_type": "code",
   "execution_count": 5,
   "id": "4fc01468",
   "metadata": {},
   "outputs": [
    {
     "data": {
      "text/html": [
       "<div>\n",
       "<style scoped>\n",
       "    .dataframe tbody tr th:only-of-type {\n",
       "        vertical-align: middle;\n",
       "    }\n",
       "\n",
       "    .dataframe tbody tr th {\n",
       "        vertical-align: top;\n",
       "    }\n",
       "\n",
       "    .dataframe thead th {\n",
       "        text-align: right;\n",
       "    }\n",
       "</style>\n",
       "<table border=\"1\" class=\"dataframe\">\n",
       "  <thead>\n",
       "    <tr style=\"text-align: right;\">\n",
       "      <th></th>\n",
       "      <th>TITLE</th>\n",
       "      <th>ABSTRACT</th>\n",
       "    </tr>\n",
       "  </thead>\n",
       "  <tbody>\n",
       "    <tr>\n",
       "      <th>0</th>\n",
       "      <td>reson enhanc two photon absorpt magnet trap at...</td>\n",
       "      <td>appli mani mode floquet formal magnet trap ato...</td>\n",
       "    </tr>\n",
       "    <tr>\n",
       "      <th>1</th>\n",
       "      <td>maxim jacobian base salienc map attack</td>\n",
       "      <td>jacobian base salienc map attack famili advers...</td>\n",
       "    </tr>\n",
       "    <tr>\n",
       "      <th>2</th>\n",
       "      <td>quit perform practic onlin game play</td>\n",
       "      <td>studi relationship perform practic analyz acti...</td>\n",
       "    </tr>\n",
       "    <tr>\n",
       "      <th>3</th>\n",
       "      <td>recent progress condit random</td>\n",
       "      <td>articl recent progress ml random respect condi...</td>\n",
       "    </tr>\n",
       "    <tr>\n",
       "      <th>4</th>\n",
       "      <td>atom electron structur stabl linear carbon cha...</td>\n",
       "      <td>work report x ray photoelectron valenc band sp...</td>\n",
       "    </tr>\n",
       "  </tbody>\n",
       "</table>\n",
       "</div>"
      ],
      "text/plain": [
       "                                               TITLE  \\\n",
       "0  reson enhanc two photon absorpt magnet trap at...   \n",
       "1             maxim jacobian base salienc map attack   \n",
       "2               quit perform practic onlin game play   \n",
       "3                      recent progress condit random   \n",
       "4  atom electron structur stabl linear carbon cha...   \n",
       "\n",
       "                                            ABSTRACT  \n",
       "0  appli mani mode floquet formal magnet trap ato...  \n",
       "1  jacobian base salienc map attack famili advers...  \n",
       "2  studi relationship perform practic analyz acti...  \n",
       "3  articl recent progress ml random respect condi...  \n",
       "4  work report x ray photoelectron valenc band sp...  "
      ]
     },
     "execution_count": 5,
     "metadata": {},
     "output_type": "execute_result"
    }
   ],
   "source": [
    "df.head()"
   ]
  },
  {
   "cell_type": "code",
   "execution_count": 6,
   "id": "0398c2a7",
   "metadata": {},
   "outputs": [],
   "source": [
    "m=torch.nn.Softmax(dim=1)\n"
   ]
  },
  {
   "cell_type": "code",
   "execution_count": 8,
   "id": "627595d4",
   "metadata": {},
   "outputs": [],
   "source": [
    "y=pd.read_csv(\"../dataset/y_test.csv\")\n",
    "y=y.values"
   ]
  },
  {
   "cell_type": "code",
   "execution_count": 9,
   "id": "1eff2a9b",
   "metadata": {},
   "outputs": [],
   "source": [
    "def preprocess(text):\n",
    "    text=re.sub(r'\\n', ' ', text)\n",
    "    text=re.sub(r'-', ' ', text)\n",
    "    text=re.sub(r'\\s+', ' ', text)\n",
    "    text=re.sub(r'\\([A-za-z\\d]*\\)', '', text)\n",
    "    text=text.strip()\n",
    "    text=\"\".join([i for i in text if i not in string.punctuation])\n",
    "    text=text.lower()\n",
    "    return text"
   ]
  },
  {
   "cell_type": "code",
   "execution_count": 10,
   "id": "07f03e05",
   "metadata": {},
   "outputs": [],
   "source": [
    "df['TITLE']= df['TITLE'].apply(lambda x: preprocess(x))\n",
    "df['ABSTRACT']= df['ABSTRACT'].apply(lambda x: preprocess(x))"
   ]
  },
  {
   "cell_type": "code",
   "execution_count": 11,
   "id": "6de058ea",
   "metadata": {},
   "outputs": [],
   "source": [
    "y_pred=[]\n",
    "for row in range(len(df)):\n",
    "    arr=np.zeros((1,6))\n",
    "    if len(str(df.iloc[row,0]))==0 or len(str(df.iloc[row,1]))==0:\n",
    "        continue\n",
    "    inputs = tokenizer(str(df.iloc[row,0])[:512],str(df.iloc[row,1])[:512], return_tensors=\"pt\")\n",
    "    op=model(**inputs).logits\n",
    "    output = m(op)\n",
    "    temp=output>0.35\n",
    "    for i in range(0,6):\n",
    "        if temp[0][i]==False:\n",
    "            arr[0][i]=0\n",
    "        else:\n",
    "            arr[0][i]=1\n",
    "    y_pred.append(arr)"
   ]
  },
  {
   "cell_type": "code",
   "execution_count": 12,
   "id": "f6c98ca2",
   "metadata": {},
   "outputs": [],
   "source": [
    "y_pred=np.array(y_pred)"
   ]
  },
  {
   "cell_type": "code",
   "execution_count": 13,
   "id": "77175c51",
   "metadata": {},
   "outputs": [],
   "source": [
    "y_pred=np.squeeze(y_pred,axis=1)"
   ]
  },
  {
   "cell_type": "code",
   "execution_count": 14,
   "id": "b42de888",
   "metadata": {},
   "outputs": [
    {
     "data": {
      "text/plain": [
       "array([0, 1, 0, 0, 0, 0], dtype=int64)"
      ]
     },
     "execution_count": 14,
     "metadata": {},
     "output_type": "execute_result"
    }
   ],
   "source": [
    "y[0]"
   ]
  },
  {
   "cell_type": "code",
   "execution_count": 15,
   "id": "e3469010",
   "metadata": {},
   "outputs": [
    {
     "data": {
      "text/plain": [
       "array([0., 1., 0., 0., 0., 0.])"
      ]
     },
     "execution_count": 15,
     "metadata": {},
     "output_type": "execute_result"
    }
   ],
   "source": [
    "y_pred[0]"
   ]
  },
  {
   "cell_type": "code",
   "execution_count": 16,
   "id": "f02ed204",
   "metadata": {},
   "outputs": [],
   "source": [
    "precision = precision_score(y, y_pred, average='micro')\n",
    "recall = recall_score(y, y_pred, average='micro')\n",
    "f1 = f1_score(y, y_pred, average='micro')"
   ]
  },
  {
   "cell_type": "code",
   "execution_count": 17,
   "id": "9fe86546",
   "metadata": {},
   "outputs": [
    {
     "name": "stdout",
     "output_type": "stream",
     "text": [
      "0.8458498023715415\n",
      "0.6924248191853826\n",
      "0.7614861329147045\n"
     ]
    }
   ],
   "source": [
    "print(precision)\n",
    "print(recall)\n",
    "print(f1)"
   ]
  }
 ],
 "metadata": {
  "kernelspec": {
   "display_name": "Python 3 (ipykernel)",
   "language": "python",
   "name": "python3"
  },
  "language_info": {
   "codemirror_mode": {
    "name": "ipython",
    "version": 3
   },
   "file_extension": ".py",
   "mimetype": "text/x-python",
   "name": "python",
   "nbconvert_exporter": "python",
   "pygments_lexer": "ipython3",
   "version": "3.10.11"
  }
 },
 "nbformat": 4,
 "nbformat_minor": 5
}
